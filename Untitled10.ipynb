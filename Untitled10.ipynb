{
  "nbformat": 4,
  "nbformat_minor": 0,
  "metadata": {
    "colab": {
      "provenance": [],
      "authorship_tag": "ABX9TyMEkeIEt+9Of/FdrtzUlcv3",
      "include_colab_link": true
    },
    "kernelspec": {
      "name": "python3",
      "display_name": "Python 3"
    },
    "language_info": {
      "name": "python"
    }
  },
  "cells": [
    {
      "cell_type": "markdown",
      "metadata": {
        "id": "view-in-github",
        "colab_type": "text"
      },
      "source": [
        "<a href=\"https://colab.research.google.com/github/VPanadero2000/MLUCM2223/blob/main/Untitled10.ipynb\" target=\"_parent\"><img src=\"https://colab.research.google.com/assets/colab-badge.svg\" alt=\"Open In Colab\"/></a>"
      ]
    },
    {
      "cell_type": "markdown",
      "source": [
        "# **PRÁCTICA FINAL MACHINE LEARNING**\n",
        "\n",
        "Por \n",
        "\n",
        "  Sofía Canela García-Arias\n",
        "\n",
        "  Berta Corriols Barrio\n",
        "\n",
        "  Víctor Panadero Gómez"
      ],
      "metadata": {
        "id": "BSGIsN3DXuUb"
      }
    },
    {
      "cell_type": "code",
      "source": [
        "import pandas as pd"
      ],
      "metadata": {
        "id": "fGOrYxyBX32h"
      },
      "execution_count": 8,
      "outputs": []
    },
    {
      "cell_type": "markdown",
      "source": [
        "## **1. Motivación del problema y presentación de la base de datos**"
      ],
      "metadata": {
        "id": "THF9KlXwXw6u"
      }
    },
    {
      "cell_type": "markdown",
      "source": [
        "### **1.1. Motivación**"
      ],
      "metadata": {
        "id": "jWzuaCJ7X6uN"
      }
    },
    {
      "cell_type": "markdown",
      "source": [
        "La base de datos propuesta es una base de datos que aporta información acerca de las diferentes características presentes en los accidentes de tráfico en Canadá entre 1999 y 2014. \n",
        "\n",
        "Es evidente que, cada año, los accidentes de tráfico tienen un peso no menor entre las causas de mortalidad en la población. El objetivo de este trabajo (atendiendo a las sugerencias del campus) será tratar de identificar qué factores definitorios del accidente pueden tener mayor importancia a la hora de determinar la existencia o no de fallecimientos en el mismo, así como qué tipo de vehículos/conductores son más o menos propensos a tener accidentes...\n",
        "\n",
        "Así, mediante el uso de técnicas de aprendizaje automático, intentaremos predecir si dado un accidente, habrá fallecimiento o no.\n",
        "\n",
        "(**OTRAS IDEAS SI NOS DA LA VIDA**: si dado un perfil de conductor con un vehiculo determinado, etc. será propenso o no a tener accidentes)\n",
        "\n",
        "Este tipo de información puede ser útil, no sólo desde el punto de vista de la prevención y la concienciaciíon (a nivel institucional, por ejemplo) sino también desde el punto de vista de las compañías de seguros, que necesitan clasificar a sus clientes de manera que les asignen una u otra poliza."
      ],
      "metadata": {
        "id": "CGfeN86jX-ug"
      }
    },
    {
      "cell_type": "markdown",
      "source": [
        "### **1.2. Presentación de la base de datos**"
      ],
      "metadata": {
        "id": "7YJDRxOQYDzD"
      }
    },
    {
      "cell_type": "markdown",
      "source": [
        "El dataset que se usará a lo largo del trabajo es un dataset que incluye variables 100% categóricas que se utilizarán para caracterizar cada accidente.\n",
        "\n",
        "A continuación, damos una definición de las variables:\n",
        "\n",
        "**COLLISION LEVEL DATA ELEMENTS**\n",
        "\n",
        "| Atributo | descripción |\n",
        "| :- |:- |\n",
        "|*C_YEAR*| Year\n",
        "| *C_MNTH*| Month\n",
        "| *C_WDAY*| Day of week\n",
        "| *C_HOUR*| Collision hour\n",
        "| *C_SEV*| Collision severity\n",
        "| *C_VEHS*| Number of vehicles involved\n",
        "| *C_CONF*| Collision configuration\n",
        "| *C_RCFG*| Roadway configuration\n",
        "| *C_WTHR*| Weather condition\n",
        "| *C_RSUR*| Road surface \n",
        "| *C_RALN*| Road alignment\n",
        "| *C_TRAF*| Traffic control\n",
        "\n",
        "**VEHICLE LEVEL DATA ELEMENTS**\n",
        "\n",
        "|Atributo | descripción |\n",
        "| :- |:-|\n",
        "|*V_ID*| Vehicle sequence number\n",
        "| *V_TYPE*| Vehicle type\n",
        "| *V_YEAR*| Vehicle model year\n",
        "\n",
        "**PERSON LEVEL DATA ELEMENTS**\n",
        "\n",
        "| Atributo | descripción |\n",
        "| :- |:- |\n",
        "|*P_ID*| Person sequence number\n",
        "| *P_SEX*| Person sex\n",
        "| *P_AGE*| Person age\n",
        "| *P_PSN*| Person position\n",
        "| *P_ISEV*| Medical treatment required\n",
        "| *P_SAFE*| Safety device used\n",
        "| *P_USER*| Road user class"
      ],
      "metadata": {
        "id": "lsmoXlcRYHXb"
      }
    },
    {
      "cell_type": "markdown",
      "source": [
        "La codificación detallada de las variables que se acaban de enumerar se podrá encontrar en el archivo PDF adjunto en la entrega de la tarea. No obstante, para el preprocessing con el que se empezará a elaborar el proyecto, conviene tener en cuenta la siguiente codificación:\n",
        "\n",
        "- **\"Q\",\"QQ\":** Choice is other than the preceding values.\n",
        "- **\"U\",\"UU\",\"UUUU\":** Unknown.\n",
        "- **\"X\",\"XX\",\"XXXX\":** Jurisdiction does not provide this data element.\n",
        "- **\"N\",\"NN\",\"NNNN\":** Data element is not applicable. e.g. \"dummy\" vehicle record created for the pedestrian."
      ],
      "metadata": {
        "id": "9wz7lDzZYMDp"
      }
    },
    {
      "cell_type": "markdown",
      "source": [
        "Más adelante, se explicará detalladamente la importancia de estas etiquetas a la hora de eliminar observaciones o imputar missing."
      ],
      "metadata": {
        "id": "srp-9QhcYTX1"
      }
    },
    {
      "cell_type": "markdown",
      "source": [
        "## **2. Preprocessing**"
      ],
      "metadata": {
        "id": "XoPhLOXQYW6H"
      }
    },
    {
      "cell_type": "markdown",
      "source": [
        "### **2.1. Análisis descriptivo del dataset**"
      ],
      "metadata": {
        "id": "5ddyyN2aYaWX"
      }
    },
    {
      "cell_type": "code",
      "source": [
        "#Leemos y visualizamos la base de datos con la que vamos a trabajar\n",
        "df = pd.read_csv(\"NCDB_1999_to_2014.csv\")\n",
        "df.head()"
      ],
      "metadata": {
        "colab": {
          "base_uri": "https://localhost:8080/",
          "height": 259
        },
        "id": "QtDqR-3JYj_l",
        "outputId": "7963fb45-9b6b-4ad1-cf74-39fea73ab01f"
      },
      "execution_count": 11,
      "outputs": [
        {
          "output_type": "error",
          "ename": "ParserError",
          "evalue": "ignored",
          "traceback": [
            "\u001b[0;31m---------------------------------------------------------------------------\u001b[0m",
            "\u001b[0;31mParserError\u001b[0m                               Traceback (most recent call last)",
            "\u001b[0;32m<ipython-input-11-90462aefae9c>\u001b[0m in \u001b[0;36m<cell line: 2>\u001b[0;34m()\u001b[0m\n\u001b[1;32m      1\u001b[0m \u001b[0;31m#Leemos y visualizamos la base de datos con la que vamos a trabajar\u001b[0m\u001b[0;34m\u001b[0m\u001b[0;34m\u001b[0m\u001b[0m\n\u001b[0;32m----> 2\u001b[0;31m \u001b[0mdf\u001b[0m \u001b[0;34m=\u001b[0m \u001b[0mpd\u001b[0m\u001b[0;34m.\u001b[0m\u001b[0mread_csv\u001b[0m\u001b[0;34m(\u001b[0m\u001b[0;34m\"NCDB_1999_to_2014.csv\"\u001b[0m\u001b[0;34m)\u001b[0m\u001b[0;34m\u001b[0m\u001b[0;34m\u001b[0m\u001b[0m\n\u001b[0m\u001b[1;32m      3\u001b[0m \u001b[0mdf\u001b[0m\u001b[0;34m.\u001b[0m\u001b[0mhead\u001b[0m\u001b[0;34m(\u001b[0m\u001b[0;34m)\u001b[0m\u001b[0;34m\u001b[0m\u001b[0;34m\u001b[0m\u001b[0m\n",
            "\u001b[0;32m/usr/local/lib/python3.10/dist-packages/pandas/util/_decorators.py\u001b[0m in \u001b[0;36mwrapper\u001b[0;34m(*args, **kwargs)\u001b[0m\n\u001b[1;32m    209\u001b[0m                 \u001b[0;32melse\u001b[0m\u001b[0;34m:\u001b[0m\u001b[0;34m\u001b[0m\u001b[0;34m\u001b[0m\u001b[0m\n\u001b[1;32m    210\u001b[0m                     \u001b[0mkwargs\u001b[0m\u001b[0;34m[\u001b[0m\u001b[0mnew_arg_name\u001b[0m\u001b[0;34m]\u001b[0m \u001b[0;34m=\u001b[0m \u001b[0mnew_arg_value\u001b[0m\u001b[0;34m\u001b[0m\u001b[0;34m\u001b[0m\u001b[0m\n\u001b[0;32m--> 211\u001b[0;31m             \u001b[0;32mreturn\u001b[0m \u001b[0mfunc\u001b[0m\u001b[0;34m(\u001b[0m\u001b[0;34m*\u001b[0m\u001b[0margs\u001b[0m\u001b[0;34m,\u001b[0m \u001b[0;34m**\u001b[0m\u001b[0mkwargs\u001b[0m\u001b[0;34m)\u001b[0m\u001b[0;34m\u001b[0m\u001b[0;34m\u001b[0m\u001b[0m\n\u001b[0m\u001b[1;32m    212\u001b[0m \u001b[0;34m\u001b[0m\u001b[0m\n\u001b[1;32m    213\u001b[0m         \u001b[0;32mreturn\u001b[0m \u001b[0mcast\u001b[0m\u001b[0;34m(\u001b[0m\u001b[0mF\u001b[0m\u001b[0;34m,\u001b[0m \u001b[0mwrapper\u001b[0m\u001b[0;34m)\u001b[0m\u001b[0;34m\u001b[0m\u001b[0;34m\u001b[0m\u001b[0m\n",
            "\u001b[0;32m/usr/local/lib/python3.10/dist-packages/pandas/util/_decorators.py\u001b[0m in \u001b[0;36mwrapper\u001b[0;34m(*args, **kwargs)\u001b[0m\n\u001b[1;32m    329\u001b[0m                     \u001b[0mstacklevel\u001b[0m\u001b[0;34m=\u001b[0m\u001b[0mfind_stack_level\u001b[0m\u001b[0;34m(\u001b[0m\u001b[0;34m)\u001b[0m\u001b[0;34m,\u001b[0m\u001b[0;34m\u001b[0m\u001b[0;34m\u001b[0m\u001b[0m\n\u001b[1;32m    330\u001b[0m                 )\n\u001b[0;32m--> 331\u001b[0;31m             \u001b[0;32mreturn\u001b[0m \u001b[0mfunc\u001b[0m\u001b[0;34m(\u001b[0m\u001b[0;34m*\u001b[0m\u001b[0margs\u001b[0m\u001b[0;34m,\u001b[0m \u001b[0;34m**\u001b[0m\u001b[0mkwargs\u001b[0m\u001b[0;34m)\u001b[0m\u001b[0;34m\u001b[0m\u001b[0;34m\u001b[0m\u001b[0m\n\u001b[0m\u001b[1;32m    332\u001b[0m \u001b[0;34m\u001b[0m\u001b[0m\n\u001b[1;32m    333\u001b[0m         \u001b[0;31m# error: \"Callable[[VarArg(Any), KwArg(Any)], Any]\" has no\u001b[0m\u001b[0;34m\u001b[0m\u001b[0;34m\u001b[0m\u001b[0m\n",
            "\u001b[0;32m/usr/local/lib/python3.10/dist-packages/pandas/io/parsers/readers.py\u001b[0m in \u001b[0;36mread_csv\u001b[0;34m(filepath_or_buffer, sep, delimiter, header, names, index_col, usecols, squeeze, prefix, mangle_dupe_cols, dtype, engine, converters, true_values, false_values, skipinitialspace, skiprows, skipfooter, nrows, na_values, keep_default_na, na_filter, verbose, skip_blank_lines, parse_dates, infer_datetime_format, keep_date_col, date_parser, dayfirst, cache_dates, iterator, chunksize, compression, thousands, decimal, lineterminator, quotechar, quoting, doublequote, escapechar, comment, encoding, encoding_errors, dialect, error_bad_lines, warn_bad_lines, on_bad_lines, delim_whitespace, low_memory, memory_map, float_precision, storage_options)\u001b[0m\n\u001b[1;32m    948\u001b[0m     \u001b[0mkwds\u001b[0m\u001b[0;34m.\u001b[0m\u001b[0mupdate\u001b[0m\u001b[0;34m(\u001b[0m\u001b[0mkwds_defaults\u001b[0m\u001b[0;34m)\u001b[0m\u001b[0;34m\u001b[0m\u001b[0;34m\u001b[0m\u001b[0m\n\u001b[1;32m    949\u001b[0m \u001b[0;34m\u001b[0m\u001b[0m\n\u001b[0;32m--> 950\u001b[0;31m     \u001b[0;32mreturn\u001b[0m \u001b[0m_read\u001b[0m\u001b[0;34m(\u001b[0m\u001b[0mfilepath_or_buffer\u001b[0m\u001b[0;34m,\u001b[0m \u001b[0mkwds\u001b[0m\u001b[0;34m)\u001b[0m\u001b[0;34m\u001b[0m\u001b[0;34m\u001b[0m\u001b[0m\n\u001b[0m\u001b[1;32m    951\u001b[0m \u001b[0;34m\u001b[0m\u001b[0m\n\u001b[1;32m    952\u001b[0m \u001b[0;34m\u001b[0m\u001b[0m\n",
            "\u001b[0;32m/usr/local/lib/python3.10/dist-packages/pandas/io/parsers/readers.py\u001b[0m in \u001b[0;36m_read\u001b[0;34m(filepath_or_buffer, kwds)\u001b[0m\n\u001b[1;32m    609\u001b[0m \u001b[0;34m\u001b[0m\u001b[0m\n\u001b[1;32m    610\u001b[0m     \u001b[0;32mwith\u001b[0m \u001b[0mparser\u001b[0m\u001b[0;34m:\u001b[0m\u001b[0;34m\u001b[0m\u001b[0;34m\u001b[0m\u001b[0m\n\u001b[0;32m--> 611\u001b[0;31m         \u001b[0;32mreturn\u001b[0m \u001b[0mparser\u001b[0m\u001b[0;34m.\u001b[0m\u001b[0mread\u001b[0m\u001b[0;34m(\u001b[0m\u001b[0mnrows\u001b[0m\u001b[0;34m)\u001b[0m\u001b[0;34m\u001b[0m\u001b[0;34m\u001b[0m\u001b[0m\n\u001b[0m\u001b[1;32m    612\u001b[0m \u001b[0;34m\u001b[0m\u001b[0m\n\u001b[1;32m    613\u001b[0m \u001b[0;34m\u001b[0m\u001b[0m\n",
            "\u001b[0;32m/usr/local/lib/python3.10/dist-packages/pandas/io/parsers/readers.py\u001b[0m in \u001b[0;36mread\u001b[0;34m(self, nrows)\u001b[0m\n\u001b[1;32m   1776\u001b[0m                     \u001b[0mcolumns\u001b[0m\u001b[0;34m,\u001b[0m\u001b[0;34m\u001b[0m\u001b[0;34m\u001b[0m\u001b[0m\n\u001b[1;32m   1777\u001b[0m                     \u001b[0mcol_dict\u001b[0m\u001b[0;34m,\u001b[0m\u001b[0;34m\u001b[0m\u001b[0;34m\u001b[0m\u001b[0m\n\u001b[0;32m-> 1778\u001b[0;31m                 \u001b[0;34m)\u001b[0m \u001b[0;34m=\u001b[0m \u001b[0mself\u001b[0m\u001b[0;34m.\u001b[0m\u001b[0m_engine\u001b[0m\u001b[0;34m.\u001b[0m\u001b[0mread\u001b[0m\u001b[0;34m(\u001b[0m  \u001b[0;31m# type: ignore[attr-defined]\u001b[0m\u001b[0;34m\u001b[0m\u001b[0;34m\u001b[0m\u001b[0m\n\u001b[0m\u001b[1;32m   1779\u001b[0m                     \u001b[0mnrows\u001b[0m\u001b[0;34m\u001b[0m\u001b[0;34m\u001b[0m\u001b[0m\n\u001b[1;32m   1780\u001b[0m                 )\n",
            "\u001b[0;32m/usr/local/lib/python3.10/dist-packages/pandas/io/parsers/c_parser_wrapper.py\u001b[0m in \u001b[0;36mread\u001b[0;34m(self, nrows)\u001b[0m\n\u001b[1;32m    228\u001b[0m         \u001b[0;32mtry\u001b[0m\u001b[0;34m:\u001b[0m\u001b[0;34m\u001b[0m\u001b[0;34m\u001b[0m\u001b[0m\n\u001b[1;32m    229\u001b[0m             \u001b[0;32mif\u001b[0m \u001b[0mself\u001b[0m\u001b[0;34m.\u001b[0m\u001b[0mlow_memory\u001b[0m\u001b[0;34m:\u001b[0m\u001b[0;34m\u001b[0m\u001b[0;34m\u001b[0m\u001b[0m\n\u001b[0;32m--> 230\u001b[0;31m                 \u001b[0mchunks\u001b[0m \u001b[0;34m=\u001b[0m \u001b[0mself\u001b[0m\u001b[0;34m.\u001b[0m\u001b[0m_reader\u001b[0m\u001b[0;34m.\u001b[0m\u001b[0mread_low_memory\u001b[0m\u001b[0;34m(\u001b[0m\u001b[0mnrows\u001b[0m\u001b[0;34m)\u001b[0m\u001b[0;34m\u001b[0m\u001b[0;34m\u001b[0m\u001b[0m\n\u001b[0m\u001b[1;32m    231\u001b[0m                 \u001b[0;31m# destructive to chunks\u001b[0m\u001b[0;34m\u001b[0m\u001b[0;34m\u001b[0m\u001b[0m\n\u001b[1;32m    232\u001b[0m                 \u001b[0mdata\u001b[0m \u001b[0;34m=\u001b[0m \u001b[0m_concatenate_chunks\u001b[0m\u001b[0;34m(\u001b[0m\u001b[0mchunks\u001b[0m\u001b[0;34m)\u001b[0m\u001b[0;34m\u001b[0m\u001b[0;34m\u001b[0m\u001b[0m\n",
            "\u001b[0;32m/usr/local/lib/python3.10/dist-packages/pandas/_libs/parsers.pyx\u001b[0m in \u001b[0;36mpandas._libs.parsers.TextReader.read_low_memory\u001b[0;34m()\u001b[0m\n",
            "\u001b[0;32m/usr/local/lib/python3.10/dist-packages/pandas/_libs/parsers.pyx\u001b[0m in \u001b[0;36mpandas._libs.parsers.TextReader._read_rows\u001b[0;34m()\u001b[0m\n",
            "\u001b[0;32m/usr/local/lib/python3.10/dist-packages/pandas/_libs/parsers.pyx\u001b[0m in \u001b[0;36mpandas._libs.parsers.TextReader._tokenize_rows\u001b[0;34m()\u001b[0m\n",
            "\u001b[0;32m/usr/local/lib/python3.10/dist-packages/pandas/_libs/parsers.pyx\u001b[0m in \u001b[0;36mpandas._libs.parsers.raise_parser_error\u001b[0;34m()\u001b[0m\n",
            "\u001b[0;31mParserError\u001b[0m: Error tokenizing data. C error: Expected 22 fields in line 33287, saw 27\n"
          ]
        }
      ]
    },
    {
      "cell_type": "markdown",
      "source": [
        "Tal y como se había adelantado antes, se puede ver en la tabla anterior que disponemos de 22 columnas (22 variables) que nos ayudarán a caracterizar nuestras colisiones."
      ],
      "metadata": {
        "id": "6qm2loFyZaOe"
      }
    },
    {
      "cell_type": "code",
      "source": [
        "#Hacemos un .shape para ver la naturaleza de nuestras variables:\n",
        "df.shape"
      ],
      "metadata": {
        "colab": {
          "base_uri": "https://localhost:8080/"
        },
        "id": "gHrRXQEnZfLv",
        "outputId": "3246a5a0-82a2-424f-815e-87b8b5759168"
      },
      "execution_count": 3,
      "outputs": [
        {
          "output_type": "execute_result",
          "data": {
            "text/plain": [
              "(16642, 22)"
            ]
          },
          "metadata": {},
          "execution_count": 3
        }
      ]
    },
    {
      "cell_type": "code",
      "source": [
        "#Vemos también que, en efecto, todas las variables son categóricas\n",
        "df.columns"
      ],
      "metadata": {
        "colab": {
          "base_uri": "https://localhost:8080/"
        },
        "id": "EUl_cO-nZlhA",
        "outputId": "cbd1b2cc-9feb-4c1a-c75b-5fc3865f738f"
      },
      "execution_count": 4,
      "outputs": [
        {
          "output_type": "execute_result",
          "data": {
            "text/plain": [
              "Index(['C_YEAR', 'C_MNTH', 'C_WDAY', 'C_HOUR', 'C_SEV', 'C_VEHS', 'C_CONF',\n",
              "       'C_RCFG', 'C_WTHR', 'C_RSUR', 'C_RALN', 'C_TRAF', 'V_ID', 'V_TYPE',\n",
              "       'V_YEAR', 'P_ID', 'P_SEX', 'P_AGE', 'P_PSN', 'P_ISEV', 'P_SAFE',\n",
              "       'P_USER'],\n",
              "      dtype='object')"
            ]
          },
          "metadata": {},
          "execution_count": 4
        }
      ]
    },
    {
      "cell_type": "code",
      "source": [
        "df.info()"
      ],
      "metadata": {
        "colab": {
          "base_uri": "https://localhost:8080/"
        },
        "id": "n2ywMCEDZzIt",
        "outputId": "24b32a35-337e-44a5-8e22-d4756d0904e5"
      },
      "execution_count": 5,
      "outputs": [
        {
          "output_type": "stream",
          "name": "stdout",
          "text": [
            "<class 'pandas.core.frame.DataFrame'>\n",
            "RangeIndex: 16642 entries, 0 to 16641\n",
            "Data columns (total 22 columns):\n",
            " #   Column  Non-Null Count  Dtype \n",
            "---  ------  --------------  ----- \n",
            " 0   C_YEAR  16642 non-null  int64 \n",
            " 1   C_MNTH  16642 non-null  int64 \n",
            " 2   C_WDAY  16642 non-null  int64 \n",
            " 3   C_HOUR  16642 non-null  object\n",
            " 4   C_SEV   16642 non-null  int64 \n",
            " 5   C_VEHS  16642 non-null  object\n",
            " 6   C_CONF  16642 non-null  object\n",
            " 7   C_RCFG  16642 non-null  object\n",
            " 8   C_WTHR  16642 non-null  object\n",
            " 9   C_RSUR  16642 non-null  object\n",
            " 10  C_RALN  16642 non-null  object\n",
            " 11  C_TRAF  16642 non-null  object\n",
            " 12  V_ID    16642 non-null  object\n",
            " 13  V_TYPE  16642 non-null  object\n",
            " 14  V_YEAR  16642 non-null  object\n",
            " 15  P_ID    16642 non-null  object\n",
            " 16  P_SEX   16641 non-null  object\n",
            " 17  P_AGE   16641 non-null  object\n",
            " 18  P_PSN   16641 non-null  object\n",
            " 19  P_ISEV  16641 non-null  object\n",
            " 20  P_SAFE  16641 non-null  object\n",
            " 21  P_USER  16641 non-null  object\n",
            "dtypes: int64(4), object(18)\n",
            "memory usage: 2.8+ MB\n"
          ]
        }
      ]
    }
  ]
}